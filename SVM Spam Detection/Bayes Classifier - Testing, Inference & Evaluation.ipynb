{
 "cells": [
  {
   "cell_type": "code",
   "execution_count": 4,
   "id": "daf7e08a",
   "metadata": {},
   "outputs": [],
   "source": [
    "import pandas as pd\n",
    "import numpy as np\n",
    "import matplotlib.pyplot as plt\n",
    "import seaborn as sns\n",
    "\n",
    "%matplotlib inline"
   ]
  },
  {
   "cell_type": "code",
   "execution_count": 5,
   "id": "5fc5766a",
   "metadata": {},
   "outputs": [],
   "source": [
    "VOCAB_SIZE=2500\n",
    "\n",
    "TOKEN_SPAM_PROB_FILE = 'SpamData/03_Testing/prob-spam.txt'\n",
    "TOKEN_HAM_PROB_FILE = 'SpamData/03_Testing/prob-nonspam.txt'\n",
    "TOKEN_ALL_PROB_FILE = 'SpamData/03_Testing/prob-all-tokens.txt'\n",
    "\n",
    "TEST_FEATURE_MATRIX = 'SpamData/03_Testing/test-features.txt'\n",
    "TEST_TARGET_MATRIX = 'SpamData/03_Testing/test-target.txt'"
   ]
  },
  {
   "cell_type": "markdown",
   "id": "cb408632",
   "metadata": {},
   "source": [
    "## Load the Data"
   ]
  },
  {
   "cell_type": "code",
   "execution_count": 6,
   "id": "41951dbb",
   "metadata": {},
   "outputs": [],
   "source": [
    "X_test = np.loadtxt(TEST_FEATURE_MATRIX, delimiter=' ')\n",
    "y_test = np.loadtxt(TEST_TARGET_MATRIX, delimiter=' ')\n",
    "prob_token_spam = np.loadtxt(TOKEN_SPAM_PROB_FILE, delimiter=' ')\n",
    "prob_token_ham = np.loadtxt(TOKEN_HAM_PROB_FILE, delimiter=' ')\n",
    "prob_all_tokens = np.loadtxt(TOKEN_ALL_PROB_FILE, delimiter=' ')"
   ]
  },
  {
   "cell_type": "code",
   "execution_count": 10,
   "id": "70190537",
   "metadata": {},
   "outputs": [
    {
     "data": {
      "text/plain": [
       "(1724, 2500)"
      ]
     },
     "execution_count": 10,
     "metadata": {},
     "output_type": "execute_result"
    }
   ],
   "source": [
    "X_test.shape"
   ]
  },
  {
   "cell_type": "code",
   "execution_count": 13,
   "id": "c5268396",
   "metadata": {},
   "outputs": [
    {
     "data": {
      "text/plain": [
       "(2500,)"
      ]
     },
     "execution_count": 13,
     "metadata": {},
     "output_type": "execute_result"
    }
   ],
   "source": [
    "prob_token_spam.shape\n",
    "\n"
   ]
  },
  {
   "cell_type": "code",
   "execution_count": 15,
   "id": "7f948268",
   "metadata": {},
   "outputs": [
    {
     "data": {
      "text/plain": [
       "(1724,)"
      ]
     },
     "execution_count": 15,
     "metadata": {},
     "output_type": "execute_result"
    }
   ],
   "source": [
    "X_test.dot(prob_token_spam).shape"
   ]
  },
  {
   "cell_type": "markdown",
   "id": "5868f1ba",
   "metadata": {},
   "source": [
    "## Set the Prior\n",
    "\n",
    "$$P(Spam \\, | \\, X) = \\frac{P(X \\, | \\, Spam) \\, P(Spam)} {P(X)}$$"
   ]
  },
  {
   "cell_type": "code",
   "execution_count": 17,
   "id": "00e35a49",
   "metadata": {},
   "outputs": [],
   "source": [
    "PROB_SPAM = 0.3116"
   ]
  },
  {
   "cell_type": "code",
   "execution_count": 18,
   "id": "23fd9454",
   "metadata": {},
   "outputs": [
    {
     "data": {
      "text/plain": [
       "array([ -4.40750247,  -5.25357728,  -4.98997971, ..., -11.40097663,\n",
       "       -12.09412381,  -8.83602727])"
      ]
     },
     "execution_count": 18,
     "metadata": {},
     "output_type": "execute_result"
    }
   ],
   "source": [
    "np.log(prob_token_spam)"
   ]
  },
  {
   "cell_type": "markdown",
   "id": "d8ca88ce",
   "metadata": {},
   "source": [
    "## Joint Probability in log format"
   ]
  },
  {
   "cell_type": "code",
   "execution_count": 19,
   "id": "3e75efd6",
   "metadata": {},
   "outputs": [],
   "source": [
    "joint_log_spam = X_test.dot(np.log(prob_token_spam)- np.log(prob_all_tokens)+np.log(PROB_SPAM))"
   ]
  },
  {
   "cell_type": "code",
   "execution_count": 20,
   "id": "6f3b29d5",
   "metadata": {},
   "outputs": [
    {
     "data": {
      "text/plain": [
       "array([-184.44445007,  -43.31536421,  -50.53737572, -224.78751009,\n",
       "       -176.55006415])"
      ]
     },
     "execution_count": 20,
     "metadata": {},
     "output_type": "execute_result"
    }
   ],
   "source": [
    "joint_log_spam[:5]"
   ]
  },
  {
   "cell_type": "markdown",
   "id": "eed8da13",
   "metadata": {},
   "source": [
    "$$P(Ham \\, | \\, X) = \\frac{P(X \\, | \\, Ham) \\,(1 - P(Spam))} {P(X)}$$"
   ]
  },
  {
   "cell_type": "code",
   "execution_count": 24,
   "id": "e6ee74e7",
   "metadata": {},
   "outputs": [],
   "source": [
    "joint_log_ham = X_test.dot(np.log(prob_token_ham)- np.log(prob_all_tokens)+np.log(1-PROB_SPAM))"
   ]
  },
  {
   "cell_type": "code",
   "execution_count": 26,
   "id": "71a5ca1f",
   "metadata": {},
   "outputs": [
    {
     "data": {
      "text/plain": [
       "1724"
      ]
     },
     "execution_count": 26,
     "metadata": {},
     "output_type": "execute_result"
    }
   ],
   "source": [
    "joint_log_ham.size"
   ]
  },
  {
   "cell_type": "markdown",
   "id": "f75433a1",
   "metadata": {},
   "source": [
    "## Making Predictions\n",
    "### Checking for higher joint probability\n",
    "$$(Spam \\, | \\, X) \\, > \\, P(Ham \\, | \\, X)$$\n",
    "<br>\n",
    "<center> OR </center>\n",
    "<br>\n",
    "$$(Ham \\, | \\, X) \\, > \\, P(Spam \\, | \\, X)$$"
   ]
  },
  {
   "cell_type": "code",
   "execution_count": 27,
   "id": "24d2a1ad",
   "metadata": {},
   "outputs": [],
   "source": [
    "prediction = joint_log_spam>joint_log_ham"
   ]
  },
  {
   "cell_type": "code",
   "execution_count": 29,
   "id": "69e43f5d",
   "metadata": {},
   "outputs": [
    {
     "data": {
      "text/plain": [
       "array([0, 0, 0, 0, 0])"
      ]
     },
     "execution_count": 29,
     "metadata": {},
     "output_type": "execute_result"
    }
   ],
   "source": [
    "prediction[-5:]*1"
   ]
  },
  {
   "cell_type": "code",
   "execution_count": 30,
   "id": "60263152",
   "metadata": {},
   "outputs": [],
   "source": [
    "joint_log_spam = X_test.dot(np.log(prob_token_spam)) + np.log(PROB_SPAM)\n",
    "joint_log_ham = X_test.dot(np.log(prob_token_ham)) + np.log(1-PROB_SPAM)"
   ]
  },
  {
   "cell_type": "markdown",
   "id": "1835c1a2",
   "metadata": {},
   "source": [
    "## Metrics and Evaluation\n",
    "### Accuracy"
   ]
  },
  {
   "cell_type": "code",
   "execution_count": 31,
   "id": "c71a3423",
   "metadata": {},
   "outputs": [],
   "source": [
    "correct_doc = (y_test == prediction).sum()"
   ]
  },
  {
   "cell_type": "code",
   "execution_count": 33,
   "id": "6bb9e78d",
   "metadata": {},
   "outputs": [
    {
     "data": {
      "text/plain": [
       "0.7708816705336426"
      ]
     },
     "execution_count": 33,
     "metadata": {},
     "output_type": "execute_result"
    }
   ],
   "source": [
    "correct_doc/y_test.size"
   ]
  },
  {
   "cell_type": "code",
   "execution_count": 34,
   "id": "b334fc91",
   "metadata": {},
   "outputs": [
    {
     "data": {
      "text/plain": [
       "1329"
      ]
     },
     "execution_count": 34,
     "metadata": {},
     "output_type": "execute_result"
    }
   ],
   "source": [
    "correct_doc"
   ]
  },
  {
   "cell_type": "code",
   "execution_count": null,
   "id": "7b0672d3",
   "metadata": {},
   "outputs": [],
   "source": []
  }
 ],
 "metadata": {
  "kernelspec": {
   "display_name": "Python 3 (ipykernel)",
   "language": "python",
   "name": "python3"
  },
  "language_info": {
   "codemirror_mode": {
    "name": "ipython",
    "version": 3
   },
   "file_extension": ".py",
   "mimetype": "text/x-python",
   "name": "python",
   "nbconvert_exporter": "python",
   "pygments_lexer": "ipython3",
   "version": "3.9.13"
  }
 },
 "nbformat": 4,
 "nbformat_minor": 5
}
